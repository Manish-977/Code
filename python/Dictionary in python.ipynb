{
 "cells": [
  {
   "cell_type": "code",
   "execution_count": 3,
   "metadata": {},
   "outputs": [
    {
     "name": "stdout",
     "output_type": "stream",
     "text": [
      "{'key': 'value', 'name': 'Manish Kumar', 'learning': 'python', 'age': 78}\n"
     ]
    }
   ],
   "source": [
    "info ={\n",
    "    \"key\" : \"value\",\n",
    "    \"name\" : \"Manish Kumar\",\n",
    "    \"learning\" : \"python\",\n",
    "    \"age\": 78\n",
    "}\n",
    "print(info)"
   ]
  },
  {
   "cell_type": "code",
   "execution_count": 4,
   "metadata": {},
   "outputs": [
    {
     "name": "stdout",
     "output_type": "stream",
     "text": [
      "{'key': 'value', 'name': 'Manish Kumar', 'learning': 'python', 'age': 78}\n",
      "value\n",
      "Manish Kumar\n"
     ]
    }
   ],
   "source": [
    "info ={\n",
    "    \"key\" : \"value\",\n",
    "    \"name\" : \"Manish Kumar\",\n",
    "    \"learning\" : \"python\",\n",
    "    \"age\": 78\n",
    "}\n",
    "\n",
    "print(info[\"key\"])\n",
    "print(info[\"name\"])"
   ]
  },
  {
   "cell_type": "code",
   "execution_count": 6,
   "metadata": {},
   "outputs": [
    {
     "name": "stdout",
     "output_type": "stream",
     "text": [
      "{'key': 'value', 'name': 'Mohit', 'learning': 'python', 'age': 78, 'surname': 'KUmar'}\n"
     ]
    }
   ],
   "source": [
    "info ={\n",
    "    \"key\" : \"value\",\n",
    "    \"name\" : \"Manish Kumar\",\n",
    "    \"learning\" : \"python\",\n",
    "    \"age\": 78\n",
    "}\n",
    "info[\"name\"]=\"Mohit\"\n",
    "info[\"surname\"]=\"KUmar\"\n",
    "print(info)"
   ]
  },
  {
   "cell_type": "code",
   "execution_count": 7,
   "metadata": {},
   "outputs": [
    {
     "name": "stdout",
     "output_type": "stream",
     "text": [
      "{'name': 'Manish kumar'}\n"
     ]
    }
   ],
   "source": [
    "null_dict ={}\n",
    "null_dict[\"name\"]=\"Manish kumar\"\n",
    "print(null_dict)"
   ]
  },
  {
   "cell_type": "code",
   "execution_count": 12,
   "metadata": {},
   "outputs": [
    {
     "name": "stdout",
     "output_type": "stream",
     "text": [
      "{'name': 'Manish kumar', 'subject': {'phy': 65, 'che': 57, 'maths': 93}}\n",
      "{'phy': 65, 'che': 57, 'maths': 93}\n",
      "65\n"
     ]
    }
   ],
   "source": [
    "#NESTED DICTIONARIES\n",
    "student={\n",
    "    \"name\":\"Manish kumar\",\n",
    "    \"subject\":{\n",
    "        \"phy\":65,\n",
    "        \"che\":57,\n",
    "        \"maths\":93\n",
    "\n",
    "    }\n",
    "}\n",
    "print(student)\n",
    "print(student[\"subject\"])\n",
    "print(student[\"subject\"][\"phy\"])"
   ]
  },
  {
   "cell_type": "code",
   "execution_count": null,
   "metadata": {},
   "outputs": [],
   "source": [
    "#"
   ]
  }
 ],
 "metadata": {
  "kernelspec": {
   "display_name": "Python 3",
   "language": "python",
   "name": "python3"
  },
  "language_info": {
   "codemirror_mode": {
    "name": "ipython",
    "version": 3
   },
   "file_extension": ".py",
   "mimetype": "text/x-python",
   "name": "python",
   "nbconvert_exporter": "python",
   "pygments_lexer": "ipython3",
   "version": "3.9.6"
  }
 },
 "nbformat": 4,
 "nbformat_minor": 2
}
