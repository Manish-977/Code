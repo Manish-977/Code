{
 "cells": [
  {
   "cell_type": "code",
   "execution_count": 1,
   "metadata": {},
   "outputs": [
    {
     "name": "stdout",
     "output_type": "stream",
     "text": [
      "dict_keys(['keys', 'name', 'learning', 'age'])\n",
      "['keys', 'name', 'learning', 'age']\n"
     ]
    }
   ],
   "source": [
    "#myDict.key() #retruns all keys\n",
    "info ={\n",
    "    \"keys\" : \"value\",\n",
    "    \"name\" : \"Manish Kumar\",\n",
    "    \"learning\" : \"python\",\n",
    "    \"age\": 78\n",
    "}\n",
    "print(info.keys())\n",
    "print(list(info.keys()))"
   ]
  },
  {
   "cell_type": "code",
   "execution_count": 2,
   "metadata": {},
   "outputs": [
    {
     "name": "stdout",
     "output_type": "stream",
     "text": [
      "['value', 'Manish Kumar', 'python', 78]\n"
     ]
    }
   ],
   "source": [
    "#myDict.values()#returns all values\n",
    "info ={\n",
    "    \"key\" : \"value\",\n",
    "    \"name\" : \"Manish Kumar\",\n",
    "    \"learning\" : \"python\",\n",
    "    \"age\": 78\n",
    "}\n",
    "print(list(info.values()))"
   ]
  },
  {
   "cell_type": "code",
   "execution_count": 3,
   "metadata": {},
   "outputs": [
    {
     "name": "stdout",
     "output_type": "stream",
     "text": [
      "[('key', 'value'), ('name', 'Manish Kumar'), ('learning', 'python'), ('age', 78)]\n",
      "('key', 'value')\n"
     ]
    }
   ],
   "source": [
    "#myDict.items()#returns all (key,val)paris as tuples\n",
    "info ={\n",
    "    \"key\" : \"value\",\n",
    "    \"name\" : \"Manish Kumar\",\n",
    "    \"learning\" : \"python\",\n",
    "    \"age\": 78\n",
    "}\n",
    "print(list(info.items()))\n",
    "pairs=list(info.items())\n",
    "print(pairs[0])"
   ]
  },
  {
   "cell_type": "code",
   "execution_count": 4,
   "metadata": {},
   "outputs": [
    {
     "name": "stdout",
     "output_type": "stream",
     "text": [
      "value\n"
     ]
    }
   ],
   "source": [
    "#myDict.get(\"keys\")#returns the key accroding to value\n",
    "info ={\n",
    "    \"key\" : \"value\",\n",
    "    \"name\" : \"Manish Kumar\",\n",
    "    \"learning\" : \"python\",\n",
    "    \"age\": 78\n",
    "}\n",
    "print((info.get(\"key\")))"
   ]
  },
  {
   "cell_type": "code",
   "execution_count": 5,
   "metadata": {},
   "outputs": [
    {
     "name": "stdout",
     "output_type": "stream",
     "text": [
      "age\n"
     ]
    }
   ],
   "source": [
    "#myDict.update(newDict)#inserts the specified items to the dictionry\n",
    "info ={\n",
    "    \"key\" : \"value\",\n",
    "    \"name\" : \"Manish Kumar\",\n",
    "    \"learning\" : \"python\",\n",
    "    \"age\": 78\n",
    "}\n",
    "# new_dict={\"city\" : \"patna\",\"age\" :24}\n",
    "# info.update(new_dict)\n",
    "# print(info)\n",
    "\n",
    "for a , b in info.items():\n",
    "    if(b==78):\n",
    "        print(a)"
   ]
  },
  {
   "cell_type": "code",
   "execution_count": 6,
   "metadata": {},
   "outputs": [
    {
     "ename": "SyntaxError",
     "evalue": "invalid syntax (3481064296.py, line 3)",
     "output_type": "error",
     "traceback": [
      "\u001b[0;36m  Cell \u001b[0;32mIn[6], line 3\u001b[0;36m\u001b[0m\n\u001b[0;31m    for , nu in lit.items():\u001b[0m\n\u001b[0m        ^\u001b[0m\n\u001b[0;31mSyntaxError\u001b[0m\u001b[0;31m:\u001b[0m invalid syntax\n"
     ]
    }
   ],
   "source": [
    "lit = {\"mohit\":23, \"manish\":12, \"golden\": 235}\n",
    "\n",
    "for , nu in lit.items():\n",
    "    if(nu == 12 ):\n",
    "        print(name)"
   ]
  }
 ],
 "metadata": {
  "kernelspec": {
   "display_name": "Python 3",
   "language": "python",
   "name": "python3"
  },
  "language_info": {
   "codemirror_mode": {
    "name": "ipython",
    "version": 3
   },
   "file_extension": ".py",
   "mimetype": "text/x-python",
   "name": "python",
   "nbconvert_exporter": "python",
   "pygments_lexer": "ipython3",
   "version": "3.9.6"
  }
 },
 "nbformat": 4,
 "nbformat_minor": 2
}
