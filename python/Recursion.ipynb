{
 "cells": [
  {
   "cell_type": "code",
   "execution_count": 1,
   "metadata": {},
   "outputs": [
    {
     "name": "stdout",
     "output_type": "stream",
     "text": [
      "6\n",
      "5\n",
      "4\n",
      "3\n",
      "2\n",
      "1\n"
     ]
    }
   ],
   "source": [
    "#recursive function\n",
    "def show(n):\n",
    "    if(n== 0):\n",
    "        return\n",
    "    print(n)\n",
    "    show(n-1)\n",
    "show(6)"
   ]
  },
  {
   "cell_type": "code",
   "execution_count": 2,
   "metadata": {},
   "outputs": [
    {
     "name": "stdout",
     "output_type": "stream",
     "text": [
      "720\n"
     ]
    }
   ],
   "source": [
    "def fact(n):\n",
    "    if(n == 1 or n == 0):\n",
    "        return 1\n",
    "    return fact(n-1)*n\n",
    "print(fact(6))"
   ]
  },
  {
   "cell_type": "code",
   "execution_count": 4,
   "metadata": {},
   "outputs": [
    {
     "name": "stdout",
     "output_type": "stream",
     "text": [
      "55\n"
     ]
    }
   ],
   "source": [
    "#write a recursive function to calculate the sum of first n natural numbers\n",
    "def calc_sum(n):\n",
    "    if(n == 0):\n",
    "        return 0\n",
    "    return calc_sum(n-1)+ n\n",
    "sum= calc_sum(10)\n",
    "print(sum)"
   ]
  },
  {
   "cell_type": "code",
   "execution_count": 5,
   "metadata": {},
   "outputs": [
    {
     "name": "stdout",
     "output_type": "stream",
     "text": [
      "mango\n",
      "litchi\n",
      "apple\n",
      "banana\n"
     ]
    }
   ],
   "source": [
    "#write a recursive function to print all elements in a list.\n",
    "#Hint: use list & index as parameters.\n",
    "def print_list(list, idx=0):\n",
    "    if(idx == len(list)):\n",
    "        return \n",
    "    print(list[idx])\n",
    "    print_list(list,idx+1)\n",
    "    \n",
    "fruits = [\"mango\",\"litchi\",\"apple\",\"banana\"]\n",
    "print_list(fruits)\n"
   ]
  }
 ],
 "metadata": {
  "kernelspec": {
   "display_name": "Python 3",
   "language": "python",
   "name": "python3"
  },
  "language_info": {
   "codemirror_mode": {
    "name": "ipython",
    "version": 3
   },
   "file_extension": ".py",
   "mimetype": "text/x-python",
   "name": "python",
   "nbconvert_exporter": "python",
   "pygments_lexer": "ipython3",
   "version": "3.12.5"
  }
 },
 "nbformat": 4,
 "nbformat_minor": 2
}
