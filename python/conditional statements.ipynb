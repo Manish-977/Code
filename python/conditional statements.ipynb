{
 "cells": [
  {
   "cell_type": "code",
   "execution_count": null,
   "metadata": {},
   "outputs": [],
   "source": [
    "#conditional statements\n",
    "age =21\n",
    "if(age>=18):\n",
    "    print(\"can vote & apply for license\")"
   ]
  },
  {
   "cell_type": "code",
   "execution_count": null,
   "metadata": {},
   "outputs": [],
   "source": [
    "    \n",
    "#second\n",
    "light=\"green\"\n",
    "if(light==\"red\"):\n",
    "    print(\"stop\")\n",
    "elif(light==\"green\"):\n",
    "    print(\"go\")\n",
    "elif(light==\"yellow\"):\n",
    "    print(\"slow\")#indentation\n",
    "else:\n",
    "    print(\"light id broken\")\n",
    "print(\"end of code\")\n"
   ]
  },
  {
   "cell_type": "code",
   "execution_count": null,
   "metadata": {},
   "outputs": [],
   "source": [
    "\n",
    "#third\n",
    "marks =int(input(\"enter the student marks :\"))\n",
    "if(marks>=90):\n",
    "    grade =\"A\"\n",
    "elif(marks >= 80 and marks < 90):\n",
    "    grade = \"B\"\n",
    "elif(marks >= 70 and marks < 80):\n",
    "    grade = \"D\"\n",
    "else:\n",
    "    grade = \"D\"\n",
    "print(\"grade of the student -> \",grade)\n"
   ]
  },
  {
   "cell_type": "code",
   "execution_count": null,
   "metadata": {},
   "outputs": [],
   "source": [
    "\n",
    "\n",
    "#Nesting coditional\n",
    "age = 98\n",
    "if(age >= 18):\n",
    "    if(age >= 80):\n",
    "        print(\"cannot drive\")\n",
    "    else:\n",
    "        print(\"can driver\")\n",
    "else:\n",
    "    print(\"cannot drive\")"
   ]
  }
 ],
 "metadata": {
  "language_info": {
   "name": "python"
  }
 },
 "nbformat": 4,
 "nbformat_minor": 2
}
