{
 "cells": [
  {
   "cell_type": "code",
   "execution_count": 1,
   "metadata": {},
   "outputs": [
    {
     "name": "stdout",
     "output_type": "stream",
     "text": [
      "15\n",
      "12\n",
      "29\n"
     ]
    },
    {
     "data": {
      "text/plain": [
       "29"
      ]
     },
     "execution_count": 1,
     "metadata": {},
     "output_type": "execute_result"
    }
   ],
   "source": [
    "#fuction    \n",
    "#Block of statemetns that perform a specific task.\n",
    "def calc_sum(a,b):\n",
    "    sum=a+b\n",
    "    print(sum)\n",
    "    return sum\n",
    "\n",
    "calc_sum(5,10)\n",
    "calc_sum(2,10)\n",
    "calc_sum(12,17)"
   ]
  },
  {
   "cell_type": "code",
   "execution_count": 3,
   "metadata": {},
   "outputs": [
    {
     "name": "stdout",
     "output_type": "stream",
     "text": [
      "4\n"
     ]
    }
   ],
   "source": [
    "#function definition\n",
    "def calc_sum(a,b): #parameters\n",
    "    return a+b\n",
    "\n",
    "sum = calc_sum(1,3) #function call: arguments\n",
    "print(sum)"
   ]
  },
  {
   "cell_type": "code",
   "execution_count": 4,
   "metadata": {},
   "outputs": [
    {
     "name": "stdout",
     "output_type": "stream",
     "text": [
      "manish kumar\n"
     ]
    }
   ],
   "source": [
    "#Buit in fuction\n",
    "#print()\n",
    "print(\"manish\", end=\" \")\n",
    "print(\"kumar\")"
   ]
  },
  {
   "cell_type": "code",
   "execution_count": 7,
   "metadata": {},
   "outputs": [
    {
     "name": "stdout",
     "output_type": "stream",
     "text": [
      "48\n"
     ]
    },
    {
     "data": {
      "text/plain": [
       "48"
      ]
     },
     "execution_count": 7,
     "metadata": {},
     "output_type": "execute_result"
    }
   ],
   "source": [
    "#Default parameters\n",
    "#Assigning a default value to parameter, which is used when no argument is passed.\n",
    "def cal_prod(a,b=8):\n",
    "    print(a*b)\n",
    "    return a*b\n",
    "cal_prod(6)\n",
    "\n"
   ]
  },
  {
   "cell_type": "code",
   "execution_count": 10,
   "metadata": {},
   "outputs": [
    {
     "name": "stdout",
     "output_type": "stream",
     "text": [
      "6\n",
      "4\n"
     ]
    }
   ],
   "source": [
    "#WAF to print the length of a list.(list is the parameter)\n",
    "cities=[\"delhi\",\"gurgaon\",\"noida\",\"pune\",\"mumbai\",\"chennai\"]\n",
    "heroes=[\"thor\",\"iroman\",\"captain america\",\"shaktiman\"]\n",
    "\n",
    "def print_len(list):\n",
    "    print(len(list))\n",
    "    \n",
    "print_len(cities)\n",
    "print_len(heroes)"
   ]
  },
  {
   "cell_type": "code",
   "execution_count": 12,
   "metadata": {},
   "outputs": [
    {
     "name": "stdout",
     "output_type": "stream",
     "text": [
      "thor iroman captain america shaktiman delhi gurgaon noida pune mumbai chennai "
     ]
    }
   ],
   "source": [
    "#WAR to print the elements of a list in a single line .(list is the parameter)\n",
    "cities=[\"delhi\",\"gurgaon\",\"noida\",\"pune\",\"mumbai\",\"chennai\"]\n",
    "heroes=[\"thor\",\"iroman\",\"captain america\",\"shaktiman\"]\n",
    "\n",
    "def print_len(list):\n",
    "    print(len(list))\n",
    "    \n",
    "def print_list(list):\n",
    "    for item in list:\n",
    "        print(item ,end=\" \")\n",
    "        \n",
    "print_list(heroes)\n",
    "print_list(cities)\n",
    "    \n",
    "    \n"
   ]
  },
  {
   "cell_type": "code",
   "execution_count": 17,
   "metadata": {},
   "outputs": [
    {
     "name": "stdout",
     "output_type": "stream",
     "text": [
      "720\n",
      "40320\n",
      "120\n"
     ]
    }
   ],
   "source": [
    "#WAF to find the factorial of n . (n is the parameter)\n",
    "\n",
    "def cal_fact(n):\n",
    "    fact =1 \n",
    "    for i in range(1,n+1):\n",
    "        fact *= i\n",
    "    print(fact)\n",
    "cal_fact(6)\n",
    "cal_fact(8)\n",
    "cal_fact(5)\n",
    "\n",
    "    "
   ]
  },
  {
   "cell_type": "code",
   "execution_count": 18,
   "metadata": {},
   "outputs": [
    {
     "name": "stdout",
     "output_type": "stream",
     "text": [
      "100 USD =  8300 INR\n"
     ]
    }
   ],
   "source": [
    "#WAF to convert usd to inr\n",
    "def converter(usd_val):\n",
    "  inr_val=usd_val *83\n",
    "  print(usd_val,\"USD = \",inr_val,\"INR\")\n",
    "converter(100)\n",
    "  \n"
   ]
  }
 ],
 "metadata": {
  "kernelspec": {
   "display_name": "Python 3",
   "language": "python",
   "name": "python3"
  },
  "language_info": {
   "codemirror_mode": {
    "name": "ipython",
    "version": 3
   },
   "file_extension": ".py",
   "mimetype": "text/x-python",
   "name": "python",
   "nbconvert_exporter": "python",
   "pygments_lexer": "ipython3",
   "version": "3.12.6"
  }
 },
 "nbformat": 4,
 "nbformat_minor": 2
}
