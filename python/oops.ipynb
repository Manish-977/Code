{
 "cells": [
  {
   "cell_type": "code",
   "execution_count": null,
   "metadata": {},
   "outputs": [
    {
     "name": "stdout",
     "output_type": "stream",
     "text": [
      "Manishkumar\n"
     ]
    }
   ],
   "source": [
    "class Student:\n",
    "    name = \"Manishkumar\"\n",
    "\n",
    "\n",
    "s1 = Student()\n",
    "print(s1.name)"
   ]
  },
  {
   "cell_type": "code",
   "execution_count": 13,
   "metadata": {},
   "outputs": [
    {
     "data": {
      "text/plain": [
       "246"
      ]
     },
     "execution_count": 13,
     "metadata": {},
     "output_type": "execute_result"
    }
   ],
   "source": [
    "class Ma:\n",
    "    def __init__(self,a ,b):\n",
    "        self.a = a\n",
    "        self.b = b\n",
    "    def add(self):\n",
    "        return self.a + self.b\n",
    "    def sub(self):\n",
    "        return self.a-self.b\n",
    "m=int(input(\"enter the number=\"))\n",
    "n=int(input(\"enter the number=\"))\n",
    "s1 = Ma(m,n)\n",
    "s1.add()\n"
   ]
  },
  {
   "cell_type": "code",
   "execution_count": 14,
   "metadata": {},
   "outputs": [
    {
     "name": "stdout",
     "output_type": "stream",
     "text": [
      "sum of the number = 57\n"
     ]
    }
   ],
   "source": [
    "#write a prog in class object of sum of two number\n",
    "class add:\n",
    "    num1=int(input(\"enter a number =\"))\n",
    "    num2=int(input(\"enter a number =\"))\n",
    "   \n",
    "\n",
    "\n",
    "s1 = add()\n",
    "print(\"sum of the number =\",s1.num1+ s1.num2)\n",
    " "
   ]
  },
  {
   "cell_type": "code",
   "execution_count": null,
   "metadata": {},
   "outputs": [
    {
     "name": "stdout",
     "output_type": "stream",
     "text": [
      "adding new student in database\n",
      "Manihs\n"
     ]
    }
   ],
   "source": [
    "#init function \n",
    "class student:\n",
    "    def __init__ (self,fullname):\n",
    "        self.name=fullname\n",
    "        print(\"adding new student in database\")\n",
    "\n",
    "s1=student(\"Manihs\")\n",
    "print(s1.name)        \n"
   ]
  },
  {
   "cell_type": "code",
   "execution_count": null,
   "metadata": {},
   "outputs": [
    {
     "name": "stdout",
     "output_type": "stream",
     "text": [
      "6\n",
      "0\n"
     ]
    }
   ],
   "source": [
    "#write a prog using init function, sum  of the two number\n",
    "class add:\n",
    "    def __init__ (self, a,b):\n",
    "        self.a=a\n",
    "        self.b=b\n",
    "n=int(input(\"enter the number=\"))\n",
    "m=int(input(\"enter the number=\"))\n",
    "s1=add(n,m)  \n",
    "print(s1.a+s1.b)  \n",
    "print(s1.a-s1.b)    \n"
   ]
  },
  {
   "cell_type": "code",
   "execution_count": null,
   "metadata": {},
   "outputs": [
    {
     "name": "stdout",
     "output_type": "stream",
     "text": [
      "manish 226001\n",
      "welcome studnt manish\n",
      "226001\n"
     ]
    }
   ],
   "source": [
    "class student:\n",
    "    collage_name=\"lnmi\"\n",
    "    def __init__ (self,name,id):\n",
    "        self.name=name\n",
    "        self.id=id\n",
    "\n",
    "        #Methods\n",
    "    def welcome(self):\n",
    "            print(\"welcome studnt\",self.name)\n",
    "\n",
    "    def get_id(self):\n",
    "            return self.id \n",
    "           \n",
    "s1=student(\"manish\",226001)\n",
    "print(s1.name,s1.id)\n",
    "s1.welcome()\n",
    "print(s1.get_id())\n",
    "\n",
    "\n",
    "\n"
   ]
  },
  {
   "cell_type": "code",
   "execution_count": null,
   "metadata": {},
   "outputs": [
    {
     "name": "stdout",
     "output_type": "stream",
     "text": [
      "hi Manish you avg score is: 76.25\n"
     ]
    }
   ],
   "source": [
    "#crete studetn class that takes name & markds of 3 subjects as aruguments in costructor.\n",
    "#them create a method to print the averge.\n",
    "class student:\n",
    "    def __init__(self,name,marks):\n",
    "        self.name=name\n",
    "        self.marks=marks\n",
    "    def get_avg(self):\n",
    "        sum=0\n",
    "        for val in self.marks:\n",
    "            sum+=val\n",
    "        print(\"hi\",self.name,\"you avg score is:\",sum/4)  \n",
    "\n",
    "s1=student(\"Manish\",[67,95,65,78]) \n",
    "s1.get_avg() \n"
   ]
  },
  {
   "cell_type": "code",
   "execution_count": null,
   "metadata": {},
   "outputs": [
    {
     "name": "stdout",
     "output_type": "stream",
     "text": [
      "ABC collage\n"
     ]
    }
   ],
   "source": [
    "#static Methods\n",
    "class student:\n",
    "    @staticmethod\n",
    "    def collage():\n",
    "        print(\"ABC collage\")\n",
    "\n",
    "s1=student()\n",
    "s1.collage()\n",
    "\n"
   ]
  },
  {
   "cell_type": "code",
   "execution_count": null,
   "metadata": {},
   "outputs": [
    {
     "name": "stdout",
     "output_type": "stream",
     "text": [
      "car started..\n"
     ]
    }
   ],
   "source": [
    "#Abstraction\n",
    "#Hiding the implementation details of a class and only showing the essential features to the user\n",
    "class Car:\n",
    "    def __init__(self):\n",
    "        self.acc=False\n",
    "        self.brk=False\n",
    "        self.clutch=False\n",
    "    def start(self):\n",
    "        self.clutch=True\n",
    "        self.acc=True\n",
    "        print(\"car started..\")\n",
    "car1=Car()\n",
    "car1.start()"
   ]
  },
  {
   "cell_type": "code",
   "execution_count": null,
   "metadata": {},
   "outputs": [],
   "source": [
    "#Encapsulation\n",
    "#Wrapping data and funcfion into a single unit (obect)\n"
   ]
  },
  {
   "cell_type": "code",
   "execution_count": null,
   "metadata": {},
   "outputs": [],
   "source": [
    "#del keyword ,,used to delete object properties or object itself.\n",
    "class student:\n",
    "    def __init__ (self,name):\n",
    "        self.name=name\n",
    "s1=student(\"Manish\")\n",
    "s1.name   \n",
    "del s1\n",
    "    "
   ]
  },
  {
   "cell_type": "code",
   "execution_count": null,
   "metadata": {},
   "outputs": [
    {
     "ename": "",
     "evalue": "",
     "output_type": "error",
     "traceback": [
      "\u001b[1;31mRunning cells with 'Python 3.8.9' requires the ipykernel package.\n",
      "\u001b[1;31mRun the following command to install 'ipykernel' into the Python environment. \n",
      "\u001b[1;31mCommand: '/Library/Developer/CommandLineTools/usr/bin/python3.8 -m pip install ipykernel -U --user --force-reinstall'"
     ]
    }
   ],
   "source": [
    "#private(like) attribute & methods\n",
    "#private attributes & methods are meant to be used only within only within the class and are not accessible from outside the class.\n",
    "class Account:\n",
    "    def __init__ (self,acc_no, acc_pass):\n",
    "        self.acc_no=acc_no\n",
    "        self.__acc_pass=acc_pass\n",
    "    def reset_pass(self):\n",
    "        print(self.__acc_pass)\n",
    "\n",
    "n=int(input(\"enter the Account number =\"))\n",
    "m=str(input(\"enter the Account password =\"))\n",
    "\n",
    "acc1=Account(n,m)\n",
    "print(acc1.acc_no)\n",
    "print(acc1.reset_pass())\n",
    "\n"
   ]
  },
  {
   "cell_type": "code",
   "execution_count": null,
   "metadata": {},
   "outputs": [
    {
     "name": "stdout",
     "output_type": "stream",
     "text": [
      "hello person \n",
      "None\n"
     ]
    }
   ],
   "source": [
    "class Person:\n",
    "    __name=\"manish\"\n",
    "\n",
    "    def __hello(self):\n",
    "        print(\"hello person \")\n",
    "\n",
    "    def welcome(self):\n",
    "        self.__hello()\n",
    "p1=Person()\n",
    "print(p1.welcome())\n"
   ]
  },
  {
   "cell_type": "code",
   "execution_count": 12,
   "metadata": {},
   "outputs": [
    {
     "name": "stdout",
     "output_type": "stream",
     "text": [
      "car is started \n",
      "None\n"
     ]
    }
   ],
   "source": [
    "#inheritance\n",
    "#when one class(child/derived)deries the properties & methods of another class(parent/base).\n",
    "#single inheritance\n",
    "class car:\n",
    "    @staticmethod\n",
    "    def start():\n",
    "        print(\"car is started \")\n",
    "    @staticmethod\n",
    "    def stop():\n",
    "        print(\"car is stoped \")\n",
    "\n",
    "class toyota(car):\n",
    "    def __init__(self,name):\n",
    "        self.name=name\n",
    "car1=toyota(\"fortuner\")\n",
    "car2=toyota(\"prius\")\n",
    "\n",
    "print(car1.start())\n",
    "    \n",
    "\n",
    "\n"
   ]
  },
  {
   "cell_type": "code",
   "execution_count": 48,
   "metadata": {},
   "outputs": [
    {
     "name": "stdout",
     "output_type": "stream",
     "text": [
      "\n",
      "diesel\n",
      "go\n"
     ]
    }
   ],
   "source": [
    "#Multi-level Inheritance\n",
    "class car:\n",
    "    @staticmethod\n",
    "    def start():\n",
    "        print(\"car is started \")\n",
    "    @staticmethod\n",
    "    def stop():\n",
    "        print(\"car is stoped \")\n",
    "\n",
    "class toyota(car):\n",
    "    def __init__(self,barnd):\n",
    "        self.barnd=barnd\n",
    "        print(\"\")\n",
    "        \n",
    "\n",
    "class fortuner(toyota):\n",
    "    def __init__ (self,type,barnd):\n",
    "        self.type=type\n",
    "        super().__init__(barnd)\n",
    "      \n",
    "car1=fortuner(\"diesel\",\"go\")\n",
    "print(car1.type) \n",
    "print(car1.barnd)\n",
    "\n"
   ]
  },
  {
   "cell_type": "code",
   "execution_count": 19,
   "metadata": {},
   "outputs": [
    {
     "name": "stdout",
     "output_type": "stream",
     "text": [
      "welcome to class C\n",
      "welcome to class B\n",
      "welcome to class A\n"
     ]
    }
   ],
   "source": [
    "#Multipe inheritance\n",
    "class A:\n",
    "    varA=\"welcome to class A\"\n",
    "class B:\n",
    "    varB=\"welcome to class B\"\n",
    "class C(A,B):\n",
    "    varC=\"welcome to class C\"\n",
    "c1=C()\n",
    "print(c1.varC)\n",
    "print(c1.varB)\n",
    "print(c1.varA)"
   ]
  },
  {
   "cell_type": "code",
   "execution_count": 54,
   "metadata": {},
   "outputs": [
    {
     "name": "stdout",
     "output_type": "stream",
     "text": [
      "\n",
      "car is started \n",
      "diesel\n",
      "go\n"
     ]
    }
   ],
   "source": [
    "#super method\n",
    "#super()method is used to access methods of the parent class.\n",
    "class car:\n",
    "    @staticmethod\n",
    "    def start():\n",
    "        print(\"car is started \")\n",
    "    @staticmethod\n",
    "    def stop():\n",
    "        print(\"car is stoped \")\n",
    "\n",
    "class toyota(car):\n",
    "    def __init__(self,barnd):\n",
    "        self.barnd=barnd\n",
    "        print(\"\")\n",
    "        \n",
    "\n",
    "class fortuner(toyota):\n",
    "    def __init__ (self,type,barnd):\n",
    "        self.type=type\n",
    "        super().__init__(barnd)\n",
    "        super().start()\n",
    "      \n",
    "car1=fortuner(\"diesel\",\"go\")\n",
    "print(car1.type) \n",
    "print(car1.barnd)"
   ]
  },
  {
   "cell_type": "code",
   "execution_count": 55,
   "metadata": {},
   "outputs": [
    {
     "name": "stdout",
     "output_type": "stream",
     "text": [
      "rahul kumar\n",
      "rahul kumar\n"
     ]
    }
   ],
   "source": [
    "\"\"\"class method\n",
    " class method is bound to the class & receives the class as an implicit first argument\n",
    " \n",
    " note - static method can't access or modify class state & generally for utility.\"\"\"\n",
    "\n",
    "\n",
    "class person:\n",
    "    name=\"anoymous\"\n",
    "\n",
    "    @classmethod\n",
    "    def changeName(cls,name):\n",
    "        cls.name=name\n",
    "\n",
    "p1=person()\n",
    "p1.changeName(\"rahul kumar\")\n",
    "print(p1.name)\n",
    "print(person.name)\n",
    "\n",
    "\n"
   ]
  },
  {
   "cell_type": "code",
   "execution_count": 58,
   "metadata": {},
   "outputs": [
    {
     "name": "stdout",
     "output_type": "stream",
     "text": [
      "133.66666666666666%\n",
      "145.66666666666666%\n"
     ]
    }
   ],
   "source": [
    "\"\"\"property\n",
    "We use @property decorator on any method in the class to use the method as a property\"\"\"\n",
    "class student:\n",
    "    def __init__(self,phy,chem,math):\n",
    "        self.phy=phy\n",
    "        self.chem=chem\n",
    "        self.math=math\n",
    "    @property\n",
    "    def percentage(self):\n",
    "        return str(self.phy+self.chem+self.math/3)+\"%\"\n",
    "    \n",
    "s1=student(56,45,98)\n",
    "print(s1.percentage)\n",
    "s1.phy=68\n",
    "print(s1.percentage)\n"
   ]
  }
 ],
 "metadata": {
  "kernelspec": {
   "display_name": "Python 3",
   "language": "python",
   "name": "python3"
  },
  "language_info": {
   "codemirror_mode": {
    "name": "ipython",
    "version": 3
   },
   "file_extension": ".py",
   "mimetype": "text/x-python",
   "name": "python",
   "nbconvert_exporter": "python",
   "pygments_lexer": "ipython3",
   "version": "3.8.9"
  }
 },
 "nbformat": 4,
 "nbformat_minor": 2
}
