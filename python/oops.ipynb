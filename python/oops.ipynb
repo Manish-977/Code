{
 "cells": [
  {
   "cell_type": "code",
   "execution_count": 10,
   "metadata": {},
   "outputs": [
    {
     "name": "stdout",
     "output_type": "stream",
     "text": [
      "Manishkumar\n"
     ]
    }
   ],
   "source": [
    "class Student:\n",
    "    name = \"Manishkumar\"\n",
    "\n",
    "\n",
    "s1 = Student()\n",
    "print(s1.name)"
   ]
  },
  {
   "cell_type": "code",
   "execution_count": 37,
   "metadata": {},
   "outputs": [
    {
     "data": {
      "text/plain": [
       "5"
      ]
     },
     "execution_count": 37,
     "metadata": {},
     "output_type": "execute_result"
    }
   ],
   "source": [
    "class Ma:\n",
    "    def __init__(self,a ,b):\n",
    "        self.a = a\n",
    "        self.b = b\n",
    "    def add(self):\n",
    "        return self.a + self.b\n",
    "    def sub(self):\n",
    "        return self.a-self.b\n",
    "m=int(input(\"enter the number=\"))\n",
    "n=int(input(\"enter the number=\"))\n",
    "s1 = Ma(m,n)\n",
    "s1.add()\n"
   ]
  },
  {
   "cell_type": "code",
   "execution_count": 5,
   "metadata": {},
   "outputs": [
    {
     "name": "stdout",
     "output_type": "stream",
     "text": [
      "sum of the number = 8\n"
     ]
    }
   ],
   "source": [
    "#write a prog in class object of sum of two number\n",
    "class add:\n",
    "    num1=int(input(\"enter a number =\"))\n",
    "    num2=int(input(\"enter a number =\"))\n",
    "   \n",
    "\n",
    "\n",
    "s1 = add()\n",
    "print(\"sum of the number =\",s1.num1+ s1.num2)\n",
    " "
   ]
  },
  {
   "cell_type": "code",
   "execution_count": 6,
   "metadata": {},
   "outputs": [
    {
     "name": "stdout",
     "output_type": "stream",
     "text": [
      "adding new student in database\n",
      "Manihs\n"
     ]
    }
   ],
   "source": [
    "#init function \n",
    "class student:\n",
    "    def __init__ (self,fullname):\n",
    "        self.name=fullname\n",
    "        print(\"adding new student in database\")\n",
    "\n",
    "s1=student(\"Manihs\")\n",
    "print(s1.name)        \n"
   ]
  },
  {
   "cell_type": "code",
   "execution_count": 40,
   "metadata": {},
   "outputs": [
    {
     "name": "stdout",
     "output_type": "stream",
     "text": [
      "6\n",
      "0\n"
     ]
    }
   ],
   "source": [
    "#write a prog using init function, sum  of the two number\n",
    "class add:\n",
    "    def __init__ (self, a,b):\n",
    "        self.a=a\n",
    "        self.b=b\n",
    "n=int(input(\"enter the number=\"))\n",
    "m=int(input(\"enter the number=\"))\n",
    "s1=add(n,m)  \n",
    "print(s1.a+s1.b)  \n",
    "print(s1.a-s1.b)    \n"
   ]
  },
  {
   "cell_type": "code",
   "execution_count": 25,
   "metadata": {},
   "outputs": [
    {
     "name": "stdout",
     "output_type": "stream",
     "text": [
      "manish 226001\n",
      "welcome studnt manish\n",
      "226001\n"
     ]
    }
   ],
   "source": [
    "class student:\n",
    "    collage_name=\"lnmi\"\n",
    "    def __init__ (self,name,id):\n",
    "        self.name=name\n",
    "        self.id=id\n",
    "\n",
    "        #Methods\n",
    "    def welcome(self):\n",
    "            print(\"welcome studnt\",self.name)\n",
    "\n",
    "    def get_id(self):\n",
    "            return self.id \n",
    "           \n",
    "s1=student(\"manish\",226001)\n",
    "print(s1.name,s1.id)\n",
    "s1.welcome()\n",
    "print(s1.get_id())\n",
    "\n",
    "\n",
    "\n"
   ]
  },
  {
   "cell_type": "code",
   "execution_count": 29,
   "metadata": {},
   "outputs": [
    {
     "name": "stdout",
     "output_type": "stream",
     "text": [
      "hi Manish you avg score is: 76.25\n"
     ]
    }
   ],
   "source": [
    "#crete studetn class that takes name & markds of 3 subjects as aruguments in costructor.\n",
    "#them create a method to print the averge.\n",
    "class student:\n",
    "    def __init__(self,name,marks):\n",
    "        self.name=name\n",
    "        self.marks=marks\n",
    "    def get_avg(self):\n",
    "        sum=0\n",
    "        for val in self.marks:\n",
    "            sum+=val\n",
    "        print(\"hi\",self.name,\"you avg score is:\",sum/4)  \n",
    "\n",
    "s1=student(\"Manish\",[67,95,65,78]) \n",
    "s1.get_avg() \n"
   ]
  },
  {
   "cell_type": "code",
   "execution_count": 46,
   "metadata": {},
   "outputs": [
    {
     "name": "stdout",
     "output_type": "stream",
     "text": [
      "ABC collage\n"
     ]
    }
   ],
   "source": [
    "#static Methods\n",
    "class student:\n",
    "    @staticmethod\n",
    "    def collage():\n",
    "        print(\"ABC collage\")\n",
    "\n",
    "s1=student()\n",
    "s1.collage()\n",
    "\n"
   ]
  },
  {
   "cell_type": "code",
   "execution_count": 50,
   "metadata": {},
   "outputs": [
    {
     "name": "stdout",
     "output_type": "stream",
     "text": [
      "car started..\n"
     ]
    }
   ],
   "source": [
    "#Abstraction\n",
    "#Hiding the implementation details of a class and only showing the essential features to the user\n",
    "class Car:\n",
    "    def __init__(self):\n",
    "        self.acc=False\n",
    "        self.brk=False\n",
    "        self.clutch=False\n",
    "    def start(self):\n",
    "        self.clutch=True\n",
    "        self.acc=True\n",
    "        print(\"car started..\")\n",
    "car1=Car()\n",
    "car1.start()"
   ]
  },
  {
   "cell_type": "code",
   "execution_count": null,
   "metadata": {},
   "outputs": [],
   "source": [
    "#Encapsulation\n",
    "#Wrapping data and funcfion into a single unit (obect)\n"
   ]
  }
 ],
 "metadata": {
  "kernelspec": {
   "display_name": "Python 3",
   "language": "python",
   "name": "python3"
  },
  "language_info": {
   "codemirror_mode": {
    "name": "ipython",
    "version": 3
   },
   "file_extension": ".py",
   "mimetype": "text/x-python",
   "name": "python",
   "nbconvert_exporter": "python",
   "pygments_lexer": "ipython3",
   "version": "3.9.6"
  }
 },
 "nbformat": 4,
 "nbformat_minor": 2
}
