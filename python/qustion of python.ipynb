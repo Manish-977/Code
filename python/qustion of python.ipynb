{
 "cells": [
  {
   "cell_type": "code",
   "execution_count": 7,
   "metadata": {},
   "outputs": [],
   "source": [
    "#write a prog input user's first name & print its length.\n",
    "name=input(\"enter your name = \")\n",
    "print(\"lenth of your name is\",len(name))"
   ]
  },
  {
   "cell_type": "code",
   "execution_count": null,
   "metadata": {},
   "outputs": [],
   "source": [
    "\n",
    "#writr a prog fing the occurrence of $ in a string.\n",
    "str =\"HI ,$Iam the $ symbol $999.99\"\n",
    "print(str.count(\"$\"))"
   ]
  },
  {
   "cell_type": "code",
   "execution_count": null,
   "metadata": {},
   "outputs": [
    {
     "name": "stdout",
     "output_type": "stream",
     "text": [
      "['yo', 'yiro', 'ri']\n"
     ]
    }
   ],
   "source": [
    "#WAP to ask the user to enter names of their 3 favorit movies &store them in a list\n",
    "movies=[]\n",
    "mov1=input(\"enter 1st movies : \")\n",
    "mov2=input(\"enter 2ad movies : \")\n",
    "mov3=input(\"enter 3th movies : \")\n",
    "\n",
    "movies.append(mov1)\n",
    "movies.append(mov2)\n",
    "movies.append(mov3)\n",
    "\n",
    "\n",
    "print(movies)"
   ]
  },
  {
   "cell_type": "code",
   "execution_count": null,
   "metadata": {},
   "outputs": [
    {
     "name": "stdout",
     "output_type": "stream",
     "text": [
      "it is not palindrome\n"
     ]
    }
   ],
   "source": [
    "#WAP to cheek if a list contains a palindrome of elements .(Hint:use copy()method)\n",
    "\n",
    "\n",
    "list1=[1,2,3]\n",
    "copy_list1=list1.copy()\n",
    "copy_list1.reverse()\n",
    "if(copy_list1 == list1):\n",
    "    print(\"it is the palindrome\")\n",
    "else:\n",
    "    print(\"it is not palindrome\")\n",
    "\n"
   ]
  },
  {
   "cell_type": "code",
   "execution_count": null,
   "metadata": {},
   "outputs": [
    {
     "name": "stdout",
     "output_type": "stream",
     "text": [
      "3\n"
     ]
    }
   ],
   "source": [
    "#WAp to count the number of students with the \"A\" grade in the following tuple.\n",
    "#[\"c\",\"D\",\"A\",\"A\",\"B\",\"B\",\"A\"]\n",
    "grad=(\"c\",\"D\",\"A\",\"A\",\"B\",\"B\",\"A\")\n",
    "print(grad.count(\"A\"))"
   ]
  },
  {
   "cell_type": "code",
   "execution_count": null,
   "metadata": {},
   "outputs": [
    {
     "name": "stdout",
     "output_type": "stream",
     "text": [
      "['A', 'A', 'A', 'B', 'B', 'D', 'c']\n"
     ]
    }
   ],
   "source": [
    "#store the above value in a  list & sort them from \"A\"to \"D\"\n",
    "grade=[\"c\",\"D\",\"A\",\"A\",\"B\",\"B\",\"A\"]\n",
    "grade.sort()\n",
    "print(grade)"
   ]
  },
  {
   "cell_type": "code",
   "execution_count": null,
   "metadata": {},
   "outputs": [
    {
     "name": "stdout",
     "output_type": "stream",
     "text": [
      "{'table': 'a piece of furniture', 'list of facts & figurescat': 'a small animal'}\n"
     ]
    }
   ],
   "source": [
    "\"\"\"store following word meanings in a python dictionary\n",
    "table :\"a piece of furniture\",\"list of facts & figures\"\n",
    "cat:\"a small animal\" \"\"\"\n",
    "\n",
    "dict={\n",
    "\"table\" :\"a piece of furniture\",\"list of facts & figures\"\n",
    "\"cat\":\"a small animal\"\n",
    "}\n",
    "print(dict)"
   ]
  },
  {
   "cell_type": "code",
   "execution_count": null,
   "metadata": {},
   "outputs": [
    {
     "name": "stdout",
     "output_type": "stream",
     "text": [
      "5\n"
     ]
    }
   ],
   "source": [
    "\"\"\"you are given a list of subjects for students. Assume one classroom is required for 1\n",
    "subject .How many classroom are needed by all student\n",
    "\"python\",\"java\", \"c++\",\"python\",\"javascript\",\"java\",\"python\",\"java\",\"c++\",\"c\" \"\"\"\n",
    "subject ={\"python\",\"java\", \"c++\",\"python\",\n",
    "          \"javascript\",\"java\",\"python\",\"java\",\"c++\",\"c\"\n",
    "\n",
    "}\n",
    "print(len(subject))"
   ]
  },
  {
   "cell_type": "code",
   "execution_count": 2,
   "metadata": {},
   "outputs": [
    {
     "name": "stdout",
     "output_type": "stream",
     "text": [
      "{'phy': 45, 'maths': 67, 'chem': 21}\n"
     ]
    }
   ],
   "source": [
    "\"\"\"WAP to enter marks of 3 subject from the user and store them in dictionary .\n",
    "start with an empty dictionry & add one by one. use subject name as key & marks as value\"\"\"\n",
    "marks={}\n",
    "x=int(input(\"enter phy :\"))\n",
    "marks[\"phy\"]=x\n",
    "\n",
    "x=int(input(\"enter maths :\"))\n",
    "marks[\"maths\"]=x \n",
    "\n",
    "x=int(input(\"enter chem :\"))\n",
    "marks[\"chem\"]=x\n",
    "print(marks)"
   ]
  },
  {
   "cell_type": "code",
   "execution_count": 6,
   "metadata": {},
   "outputs": [
    {
     "name": "stdout",
     "output_type": "stream",
     "text": [
      "(9, '9.0')\n"
     ]
    }
   ],
   "source": [
    "\"\"\"Figure out a way to store 9 & 9.0 as separte value in the set\n",
    "(you can take help of buit-in data types)\"\"\"\n",
    "s = (9 , \"9.0\")\n",
    "print(s)\n"
   ]
  },
  {
   "cell_type": "code",
   "execution_count": 2,
   "metadata": {},
   "outputs": [
    {
     "name": "stdout",
     "output_type": "stream",
     "text": [
      "simple_interest 1800.0\n",
      "compound_interest 1961.9999999999993\n"
     ]
    }
   ],
   "source": [
    "#write the prog in python simple and compound interest\n",
    "principal=float(input(\"Enter amount= \"))\n",
    "time=float(input(\"Enter time= \"))\n",
    "rate=float(input(\"Enter rat= \"))\n",
    "\n",
    "#calcualtion\n",
    "simple_interest=(principal*time*rate)/100\n",
    "compound_interest=principal*((1+rate/100)**time-1)\n",
    "print(\"simple_interest\",simple_interest)\n",
    "print(\"compound_interest\",compound_interest)\n"
   ]
  },
  {
   "cell_type": "code",
   "execution_count": 2,
   "metadata": {},
   "outputs": [
    {
     "name": "stdout",
     "output_type": "stream",
     "text": [
      "1\n",
      "4\n",
      "9\n",
      "16\n",
      "25\n",
      "36\n",
      "49\n",
      "64\n",
      "81\n",
      "100\n"
     ]
    }
   ],
   "source": [
    "#print the element of the following lis using a loop\n",
    "num=[1,4,9,16,25,36,49,64,81,100]\n",
    "idx =0\n",
    "while(idx < len(num)):\n",
    "    print(num[idx])\n",
    "    idx=idx+1\n"
   ]
  },
  {
   "cell_type": "code",
   "execution_count": 18,
   "metadata": {},
   "outputs": [
    {
     "name": "stdout",
     "output_type": "stream",
     "text": [
      "found at idx = 0\n"
     ]
    }
   ],
   "source": [
    "#Search for a number x in this tuple using loop\n",
    "num=(1,4,9,16,25,36,49,64,81,100)\n",
    "x=int(input(\"Enter the search the number =\"))\n",
    "\n",
    "i=0\n",
    "while(i < len(num)):\n",
    "    if(num[i] == x):\n",
    "        print(\"found at idx =\",i)\n",
    "        break\n",
    "    else:\n",
    "        print(\"founding.. = \")\n",
    "       \n",
    "        i+=1\n",
    "        print(\"end of looping condition\")\n",
    "\n"
   ]
  },
  {
   "cell_type": "code",
   "execution_count": 21,
   "metadata": {},
   "outputs": [
    {
     "name": "stdout",
     "output_type": "stream",
     "text": [
      "founding....\n",
      "founding....\n",
      "founding....\n",
      "founding....\n",
      "number found at idx 4\n"
     ]
    }
   ],
   "source": [
    "#Search for a number x in this tuple using loop\n",
    "num=(1,4,9,16,25,36,49,64,81,100)\n",
    "x=int(input(\"Enter the search the number =\"))\n",
    "idx =0\n",
    "for el in num:\n",
    "    if(el==x):\n",
    "        print(\"number found at idx\",idx)\n",
    "        break\n",
    "    else:\n",
    "        print(\"founding....\")\n",
    "        idx+=1"
   ]
  },
  {
   "cell_type": "code",
   "execution_count": 33,
   "metadata": {},
   "outputs": [
    {
     "name": "stdout",
     "output_type": "stream",
     "text": [
      "total sum = 28\n"
     ]
    }
   ],
   "source": [
    "#wap to find the sum of first n  natural numbers.(using while)\n",
    "n=7\n",
    "sum=0\n",
    "i=1\n",
    "while(i<=n):\n",
    "    sum +=i\n",
    "    i=i+1\n",
    "\n",
    "\n",
    "print(\"total sum =\",sum)\n"
   ]
  },
  {
   "cell_type": "code",
   "execution_count": 51,
   "metadata": {},
   "outputs": [
    {
     "name": "stdout",
     "output_type": "stream",
     "text": [
      "factorial is = 120\n"
     ]
    }
   ],
   "source": [
    "#WAP to fing the factorial of first n natural numbers .(using for)\n",
    "n=int(input(\"enter the number=\"))\n",
    "fact=1\n",
    "for el in range(1,n+1):\n",
    "    fact *=el\n",
    "print(\"factorial is =\",fact)\n",
    "    \n",
    "\n"
   ]
  },
  {
   "cell_type": "code",
   "execution_count": 5,
   "metadata": {},
   "outputs": [
    {
     "name": "stdout",
     "output_type": "stream",
     "text": [
      "RS 1000 was debited\n",
      "total balance = 9000\n",
      "RS 500 was credit\n",
      "total balance = 9500\n"
     ]
    }
   ],
   "source": [
    "#Create Account class with 2 attributes - balance & account no.\n",
    "#creae method for debit,credit & printing the balance.\n",
    "class Account:\n",
    "    def __init__(self,bal,acc):\n",
    "        self.balance=bal\n",
    "        self.account=acc\n",
    "    def debit(self,amount):\n",
    "        self.balance-=amount\n",
    "        print(\"RS\",amount,\"was debited\")\n",
    "        print(\"total balance =\",self.get_balance())\n",
    "    def credit(self,amount):\n",
    "        self.balance+=amount\n",
    "        print(\"RS\",amount,\"was credit\")\n",
    "        print(\"total balance =\",self.get_balance())\n",
    "    def get_balance(self):\n",
    "        return self.balance\n",
    "    \n",
    "acc1=Account(10000,12345)\n",
    "acc1.debit(1000)\n",
    "acc1.credit(500)"
   ]
  }
 ],
 "metadata": {
  "kernelspec": {
   "display_name": "Python 3",
   "language": "python",
   "name": "python3"
  },
  "language_info": {
   "codemirror_mode": {
    "name": "ipython",
    "version": 3
   },
   "file_extension": ".py",
   "mimetype": "text/x-python",
   "name": "python",
   "nbconvert_exporter": "python",
   "pygments_lexer": "ipython3",
   "version": "3.9.6"
  }
 },
 "nbformat": 4,
 "nbformat_minor": 2
}
