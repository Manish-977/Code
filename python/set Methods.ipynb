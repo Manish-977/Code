{
 "cells": [
  {
   "cell_type": "code",
   "execution_count": 3,
   "metadata": {},
   "outputs": [
    {
     "name": "stdout",
     "output_type": "stream",
     "text": [
      "6\n"
     ]
    }
   ],
   "source": [
    "collection ={1,2,4,3,4,\"manihs\",\"mohit\"}\n",
    "print(len(collection))"
   ]
  },
  {
   "cell_type": "code",
   "execution_count": 6,
   "metadata": {},
   "outputs": [
    {
     "name": "stdout",
     "output_type": "stream",
     "text": [
      "{1, 3, 4, 5, 27, '34'}\n"
     ]
    }
   ],
   "source": [
    "#set.add(el)#adds an element\n",
    "collection={1,3,4,5,3,27,}\n",
    "\n",
    "collection.add(\"34\")\n",
    "print(collection)"
   ]
  },
  {
   "cell_type": "code",
   "execution_count": 8,
   "metadata": {},
   "outputs": [
    {
     "name": "stdout",
     "output_type": "stream",
     "text": [
      "{1, 3, 4}\n"
     ]
    }
   ],
   "source": [
    "#set.remove(el)#remove the element\n",
    "collection ={1,2,4,3,4,}\n",
    "collection.remove(2)\n",
    "print((collection))"
   ]
  },
  {
   "cell_type": "code",
   "execution_count": 9,
   "metadata": {},
   "outputs": [
    {
     "name": "stdout",
     "output_type": "stream",
     "text": [
      "set()\n"
     ]
    }
   ],
   "source": [
    "#set.clear()#empties the set\n",
    "collection ={1,2,4,3,4,}\n",
    "collection.clear()\n",
    "print((collection))"
   ]
  },
  {
   "cell_type": "code",
   "execution_count": 14,
   "metadata": {},
   "outputs": [
    {
     "name": "stdout",
     "output_type": "stream",
     "text": [
      "3\n"
     ]
    }
   ],
   "source": [
    "#set.pop()#removes a random value\n",
    "collection ={1,2,4,3,4}\n",
    "collection.pop()\n",
    "print(len(collection))"
   ]
  },
  {
   "cell_type": "code",
   "execution_count": 18,
   "metadata": {},
   "outputs": [
    {
     "name": "stdout",
     "output_type": "stream",
     "text": [
      "{1, 2, 3, 4, 5, 6}\n",
      "6\n"
     ]
    }
   ],
   "source": [
    "#set.union(set2) #combines both set values & return new\n",
    "set1={1,2,3,4,}\n",
    "set2={5,6,4,2,3}\n",
    "print((set1.union(set2)))\n",
    "print(len(set1.union(set2)))"
   ]
  },
  {
   "cell_type": "code",
   "execution_count": 19,
   "metadata": {},
   "outputs": [
    {
     "name": "stdout",
     "output_type": "stream",
     "text": [
      "{2, 3, 4}\n"
     ]
    }
   ],
   "source": [
    "#set.intersection(set2)#combines common valuse & retruns new\n",
    "set1={1,2,3,4,}\n",
    "set={5,6,4,2,3}\n",
    "print(set1.intersection(set2))\n"
   ]
  }
 ],
 "metadata": {
  "kernelspec": {
   "display_name": "Python 3",
   "language": "python",
   "name": "python3"
  },
  "language_info": {
   "codemirror_mode": {
    "name": "ipython",
    "version": 3
   },
   "file_extension": ".py",
   "mimetype": "text/x-python",
   "name": "python",
   "nbconvert_exporter": "python",
   "pygments_lexer": "ipython3",
   "version": "3.9.6"
  }
 },
 "nbformat": 4,
 "nbformat_minor": 2
}
