{
 "cells": [
  {
   "cell_type": "code",
   "execution_count": 1,
   "metadata": {},
   "outputs": [
    {
     "name": "stdout",
     "output_type": "stream",
     "text": [
      "True\n"
     ]
    }
   ],
   "source": [
    "#str =\"i am coder\"\n",
    "#str.endswith(\"er\") #returns true if string ends with substr\n",
    "str =\"I am studying python from Apnacollege\"\n",
    "print(str.endswith(\"ege\"))"
   ]
  },
  {
   "cell_type": "code",
   "execution_count": 4,
   "metadata": {},
   "outputs": [
    {
     "name": "stdout",
     "output_type": "stream",
     "text": [
      "I am studying python from apnacollege\n",
      "i am studying python from Apnacollege\n"
     ]
    }
   ],
   "source": [
    "#str.capitalize()  #capitalizes 1st char\n",
    "str =\"i am studying python from Apnacollege\"\n",
    "#str=str.capitalize()\n",
    "print(str.capitalize())\n",
    "print(str)"
   ]
  },
  {
   "cell_type": "code",
   "execution_count": 5,
   "metadata": {},
   "outputs": [
    {
     "name": "stdout",
     "output_type": "stream",
     "text": [
      "I AM STUDYING PYTHON FROM MANISH\n"
     ]
    }
   ],
   "source": [
    "#str.uper()\n",
    "str=\"i am studying python from manish\"\n",
    "print(str.upper())"
   ]
  },
  {
   "cell_type": "code",
   "execution_count": 3,
   "metadata": {},
   "outputs": [
    {
     "name": "stdout",
     "output_type": "stream",
     "text": [
      "I am studying pythan fram Apnacallege\n"
     ]
    }
   ],
   "source": [
    "#str.replace(old,new) #replaces all occurrences of old \n",
    "str =\"I am studying python from Apnacollege\"\n",
    "print(str.replace(\"o\",\"a\"))"
   ]
  },
  {
   "cell_type": "code",
   "execution_count": 4,
   "metadata": {},
   "outputs": [
    {
     "name": "stdout",
     "output_type": "stream",
     "text": [
      "34\n"
     ]
    }
   ],
   "source": [
    "#str.find(word) #returns 1st index of 1st occurrer\n",
    "str =\"I am studying python from Apnacollege\"\n",
    "print(str.find(\"e\"))"
   ]
  },
  {
   "cell_type": "code",
   "execution_count": 5,
   "metadata": {},
   "outputs": [
    {
     "name": "stdout",
     "output_type": "stream",
     "text": [
      "2\n"
     ]
    }
   ],
   "source": [
    "#str.count(\"am\") #counts the occurrence of substring\n",
    "str =\"I am studying python from Apnacollege\"\n",
    "print(str.count(\"e\"))"
   ]
  },
  {
   "cell_type": "code",
   "execution_count": 6,
   "metadata": {},
   "outputs": [
    {
     "name": "stdout",
     "output_type": "stream",
     "text": [
      "\n",
      "6\n",
      "5\n",
      "Manish Kumar\n",
      "12\n"
     ]
    }
   ],
   "source": [
    "#concatenation\n",
    "str1=\"Manish\"\n",
    "str2=\"kumar\"\n",
    "\n",
    "print()\n",
    "\n",
    "#lenght \n",
    "str1=\"Manish\"\n",
    "len1=len(str1)\n",
    "print(len1)\n",
    "\n",
    "str2=\"Kumar\"\n",
    "len2=len(str2)\n",
    "print(len2)\n",
    "final_str= str1+ \" \" + str2\n",
    "print(final_str)\n",
    "print(len(final_str))\n"
   ]
  },
  {
   "cell_type": "code",
   "execution_count": 3,
   "metadata": {},
   "outputs": [
    {
     "name": "stdout",
     "output_type": "stream",
     "text": [
      "19\n",
      "w\n",
      "e\n",
      "l\n",
      "c\n",
      "o\n",
      "m\n",
      "e\n",
      " \n",
      "t\n",
      "o\n",
      " \n",
      "m\n",
      "y\n",
      " \n",
      "w\n",
      "o\n",
      "r\n",
      "l\n",
      "d\n",
      "\n",
      "d\n",
      "l\n",
      "r\n",
      "o\n",
      "w\n",
      " \n",
      "y\n",
      "m\n",
      " \n",
      "o\n",
      "t\n",
      " \n",
      "e\n",
      "m\n",
      "o\n",
      "c\n",
      "l\n",
      "e\n",
      "w\n"
     ]
    }
   ],
   "source": [
    "#string iteration\n",
    "w=\"welcome to my world\"\n",
    "t=len(w)\n",
    "print(t)\n",
    "for a in range(t):\n",
    "    print(w[a])\n",
    "\n",
    "\n",
    "print()\n",
    "\n",
    "for a in range(t-1,-1,-1):\n",
    "    print(w[a])"
   ]
  },
  {
   "cell_type": "code",
   "execution_count": null,
   "metadata": {},
   "outputs": [],
   "source": []
  }
 ],
 "metadata": {
  "kernelspec": {
   "display_name": "Python 3",
   "language": "python",
   "name": "python3"
  },
  "language_info": {
   "codemirror_mode": {
    "name": "ipython",
    "version": 3
   },
   "file_extension": ".py",
   "mimetype": "text/x-python",
   "name": "python",
   "nbconvert_exporter": "python",
   "pygments_lexer": "ipython3",
   "version": "3.9.6"
  }
 },
 "nbformat": 4,
 "nbformat_minor": 2
}
