{
 "cells": [
  {
   "cell_type": "code",
   "execution_count": null,
   "metadata": {},
   "outputs": [],
   "source": [
    "#str =\"i am coder\"\n",
    "#str.endswith(\"er\") #returns true if string ends with substr\n",
    "str =\"I am studying python from Apnacollege\"\n",
    "print(str.endswith(\"ege\"))"
   ]
  },
  {
   "cell_type": "code",
   "execution_count": null,
   "metadata": {},
   "outputs": [],
   "source": [
    "#str.capitalize()  #capitalizes 1st char\n",
    "str =\"i am studying python from Apnacollege\"\n",
    "str=str.capitalize()\n",
    "print(str.capitalize())\n",
    "print(str)"
   ]
  },
  {
   "cell_type": "code",
   "execution_count": null,
   "metadata": {},
   "outputs": [],
   "source": [
    "#str.replace(old,new) #replaces all occurrences of old \n",
    "str =\"I am studying python from Apnacollege\"\n",
    "print(str.replace(\"o\",\"a\"))"
   ]
  },
  {
   "cell_type": "code",
   "execution_count": null,
   "metadata": {},
   "outputs": [],
   "source": [
    "#str.find(word) #returns 1st index of 1st occurrer\n",
    "str =\"I am studying python from Apnacollege\"\n",
    "print(str.find(\"e\"))"
   ]
  },
  {
   "cell_type": "code",
   "execution_count": null,
   "metadata": {},
   "outputs": [],
   "source": [
    "#str.count(\"am\") #counts the occurrence of substring\n",
    "str =\"I am studying python from Apnacollege\"\n",
    "print(str.count(\"e\"))"
   ]
  },
  {
   "cell_type": "code",
   "execution_count": null,
   "metadata": {},
   "outputs": [],
   "source": [
    "#concatenation\n",
    "str1=\"Manish\"\n",
    "str2=\"kumar\"\n",
    "\n",
    "print()\n",
    "\n",
    "#lenght \n",
    "str1=\"Manish\"\n",
    "len1=len(str1)\n",
    "print(len1)\n",
    "\n",
    "str2=\"Kumar\"\n",
    "len2=len(str2)\n",
    "print(len2)\n",
    "final_str= str1+ \" \" + str2\n",
    "print(final_str)\n",
    "print(len(final_str))\n"
   ]
  }
 ],
 "metadata": {
  "language_info": {
   "name": "python"
  }
 },
 "nbformat": 4,
 "nbformat_minor": 2
}
